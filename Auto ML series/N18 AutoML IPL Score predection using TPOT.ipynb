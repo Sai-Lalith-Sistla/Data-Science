{
 "cells": [
  {
   "cell_type": "markdown",
   "metadata": {},
   "source": [
    "# AUTO ML Series : IPL Score prediction using TPOT\n",
    "\n",
    "#### IPL Score Prediction - Model Training Notebook\n",
    "\n",
    "#### 📌 Project Overview\n",
    "This project aims to predict the **first-innings score** in an IPL match at **any given over** using **TPOT (Tree-based Pipeline Optimization Tool)**. TPOT automates the process of selecting the best machine learning pipeline, optimizing feature selection, model selection, and hyperparameters. The final model will be integrated into a **pipeline** and a **web app** for real-time predictions.\n",
    "\n",
    "#### 📊 Dataset Description\n",
    "The dataset consists of two CSV files:\n",
    "1. **matches.csv** – Contains match-level details like teams, venue, toss details, and final scores.\n",
    "2. **deliveries.csv** – Contains ball-by-ball data, including runs scored, wickets, bowler, and batsman details.\n",
    "\n",
    "#### 🔧 Data Preprocessing\n",
    "- **Merging datasets** to map match information to each delivery.\n",
    "- **Feature engineering**, including:\n",
    "  - Current run rate (CRR)\n",
    "  - Wickets lost\n",
    "  - Batsman and bowler statistics\n",
    "  - Venue and toss impact\n",
    "- **Handling missing values** and data imbalances.\n",
    "- **Encoding categorical variables** (e.g., team names, venues).\n",
    "- **Train-test split** for model training.\n",
    "\n",
    "This notebook handles **dataset preprocessing** and **model training** using TPOT.  \n",
    "It finds the best machine learning pipeline for predicting the **final score** at any given over.\n",
    "\n",
    "#### Note:\n",
    "- This is the **model training script**. This notebook handles **dataset preprocessing** and **model training** using TPOT.  It finds the best machine learning pipeline for predicting the **final score** at any given over.\n",
    "- There is a separate **Streamlit script** for deploying a web app to make predictions.\n",
    "\n",
    "\n",
    "\n",
    "\n",
    "Data set credits : https://www.kaggle.com/datasets/patrickb1912/ipl-complete-dataset-20082020"
   ]
  },
  {
   "cell_type": "code",
   "execution_count": null,
   "metadata": {},
   "outputs": [],
   "source": [
    "# Importing libraries\n",
    "import pandas as pd\n",
    "\n",
    "# import the AutoMLpackage after installing tpot.\n",
    "from tpot import TPOTRegressor\n",
    "\n",
    "from sklearn.model_selection import train_test_split\n",
    "from sklearn.preprocessing import LabelEncoder"
   ]
  },
  {
   "cell_type": "code",
   "execution_count": null,
   "metadata": {},
   "outputs": [],
   "source": [
    "# Load the CSV files\n",
    "# Note: I have a bad habit of restructuring notebooks, verify the location when using the notebook\n",
    "deliveries = pd.read_csv('..\\datasets\\ipl_2008_2024\\deliveries.csv')\n",
    "matches = pd.read_csv('..\\datasets\\ipl_2008_2024\\matches.csv')"
   ]
  },
  {
   "cell_type": "code",
   "execution_count": null,
   "metadata": {},
   "outputs": [],
   "source": [
    "# Show the first few rows of each DataFrame to understand the structure\n",
    "print(\"Deliveries DataFrame:\")\n",
    "deliveries.head()"
   ]
  },
  {
   "cell_type": "code",
   "execution_count": null,
   "metadata": {},
   "outputs": [],
   "source": [
    "print(\"\\nMatches DataFrame:\")\n",
    "matches.head()\n"
   ]
  },
  {
   "cell_type": "code",
   "execution_count": null,
   "metadata": {},
   "outputs": [],
   "source": [
    "deliveries.isnull().sum()"
   ]
  },
  {
   "cell_type": "code",
   "execution_count": null,
   "metadata": {},
   "outputs": [],
   "source": [
    "matches.isnull().sum()"
   ]
  },
  {
   "cell_type": "code",
   "execution_count": 9,
   "metadata": {},
   "outputs": [],
   "source": [
    "# Merge datasets on match_id\n",
    "ipl_data = deliveries.merge(matches, left_on='match_id', right_on='id', how='left')"
   ]
  },
  {
   "cell_type": "code",
   "execution_count": null,
   "metadata": {},
   "outputs": [],
   "source": [
    "# Filter first innings data\n",
    "first_innings = ipl_data[ipl_data['inning'] == 1]\n",
    "\n",
    "# Aggregate features at each over level\n",
    "overwise_data = first_innings.groupby(['match_id', 'batting_team', 'bowling_team', 'over']).agg(\n",
    "    total_runs=('total_runs', 'sum'),\n",
    "    wickets=('is_wicket', 'sum')\n",
    ").reset_index()\n",
    "\n",
    "overwise_data.head()"
   ]
  },
  {
   "cell_type": "code",
   "execution_count": null,
   "metadata": {},
   "outputs": [],
   "source": [
    "\n",
    "\n",
    "\n",
    "# Compute cumulative features\n",
    "overwise_data['cumulative_runs'] = overwise_data.groupby('match_id')['total_runs'].cumsum()\n",
    "overwise_data['cumulative_wickets'] = overwise_data.groupby('match_id')['wickets'].cumsum()\n",
    "\n",
    "overwise_data['run_rate'] = overwise_data['cumulative_runs'] / (overwise_data['over'] + 1)\n",
    "\n",
    "# Merge with match-level data for additional features\n",
    "overwise_data = overwise_data.merge(matches[['id', 'venue']], \n",
    "                                    left_on='match_id', right_on='id', how='left')\n",
    "\n",
    "# Target Variable: Final first-innings score\n",
    "target_scores = first_innings.groupby('match_id')['total_runs'].sum().reset_index()\n",
    "target_scores.rename(columns={'total_runs': 'final_score'}, inplace=True)\n",
    "\n",
    "overwise_data = overwise_data.merge(target_scores, on='match_id', how='left')\n",
    "\n",
    "# Save preprocessed data\n",
    "overwise_data.to_csv(\"..\\datasets\\ipl_2008_2024\\preprocessed_ipl_data.csv\", index=False)\n",
    "print(\"Preprocessing complete. Data saved to 'preprocessed_ipl_data.csv'\")\n"
   ]
  },
  {
   "cell_type": "code",
   "execution_count": null,
   "metadata": {},
   "outputs": [],
   "source": [
    "# Load preprocessed data\n",
    "data = pd.read_csv(\"..\\datasets\\ipl_2008_2024\\preprocessed_ipl_data.csv\")\n",
    "\n",
    "# Encode categorical features\n",
    "encoder = LabelEncoder()\n",
    "data['batting_team'] = encoder.fit_transform(data['batting_team'])\n",
    "data['bowling_team'] = encoder.fit_transform(data['bowling_team'])\n",
    "data['venue'] = encoder.fit_transform(data['venue'])\n",
    "\n",
    "# Define input features (X) and target variable (Y)\n",
    "features = ['over', 'cumulative_runs', 'cumulative_wickets', 'run_rate', 'batting_team', 'bowling_team', 'venue']\n",
    "X = data[features]\n",
    "Y = data['final_score']\n",
    "\n",
    "# Split data into training and testing sets\n",
    "X_train, X_test, Y_train, Y_test = train_test_split(X, Y, test_size=0.2, random_state=42)\n",
    "\n",
    "# Initialize and train TPOT model\n",
    "tpot = TPOTRegressor(generations=5, population_size=20, max_time_mins = 30, n_jobs =4, random_state=42)\n",
    "tpot.fit(X_train, Y_train)\n",
    "\n",
    "# Evaluate model performance\n",
    "print(\"Best model score:\", tpot.score(X_test, Y_test))\n",
    "\n",
    "# Export the best model pipeline\n",
    "tpot.export(\"best_tpot_pipeline.py\")\n",
    "\n",
    "print(\"TPOT training complete. Best model saved as 'best_tpot_pipeline.py'\")"
   ]
  },
  {
   "cell_type": "markdown",
   "metadata": {},
   "source": [
    "#### Now that the model has been built, it's time to deploy the model\n",
    "\n",
    "refer the python script with the similar name to the notebook"
   ]
  },
  {
   "cell_type": "code",
   "execution_count": null,
   "metadata": {},
   "outputs": [],
   "source": []
  },
  {
   "cell_type": "code",
   "execution_count": null,
   "metadata": {},
   "outputs": [],
   "source": []
  },
  {
   "cell_type": "code",
   "execution_count": null,
   "metadata": {},
   "outputs": [],
   "source": []
  }
 ],
 "metadata": {
  "kernelspec": {
   "display_name": "Python 3",
   "language": "python",
   "name": "python3"
  },
  "language_info": {
   "codemirror_mode": {
    "name": "ipython",
    "version": 3
   },
   "file_extension": ".py",
   "mimetype": "text/x-python",
   "name": "python",
   "nbconvert_exporter": "python",
   "pygments_lexer": "ipython3",
   "version": "3.10.11"
  }
 },
 "nbformat": 4,
 "nbformat_minor": 2
}
